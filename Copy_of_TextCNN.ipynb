{
  "nbformat": 4,
  "nbformat_minor": 0,
  "metadata": {
    "colab": {
      "provenance": [],
      "gpuType": "T4",
      "include_colab_link": true
    },
    "kernelspec": {
      "name": "python3",
      "display_name": "Python 3"
    },
    "language_info": {
      "name": "python"
    },
    "accelerator": "GPU"
  },
  "cells": [
    {
      "cell_type": "markdown",
      "metadata": {
        "id": "view-in-github",
        "colab_type": "text"
      },
      "source": [
        "<a href=\"https://colab.research.google.com/github/shadenWq/sentiment-analysis-/blob/main/Copy_of_TextCNN.ipynb\" target=\"_parent\"><img src=\"https://colab.research.google.com/assets/colab-badge.svg\" alt=\"Open In Colab\"/></a>"
      ]
    },
    {
      "cell_type": "markdown",
      "source": [
        "## Import Necessary Libraries"
      ],
      "metadata": {
        "id": "rT-zGUbFWF6v"
      }
    },
    {
      "cell_type": "code",
      "execution_count": null,
      "metadata": {
        "id": "luwRtU8CZyyU"
      },
      "outputs": [],
      "source": [
        "import pandas as pd\n",
        "import numpy as np\n",
        "import matplotlib.pyplot as plt\n",
        "import seaborn as sns"
      ]
    },
    {
      "cell_type": "markdown",
      "source": [
        "## Import Dataset"
      ],
      "metadata": {
        "id": "LDdgJakKZ-pP"
      }
    },
    {
      "cell_type": "code",
      "source": [
        "# Read the dataset\n",
        "df = pd.read_csv('/content/Mental-Health-Twitter.csv')"
      ],
      "metadata": {
        "id": "o2nrAdyQZ5P1"
      },
      "execution_count": null,
      "outputs": []
    },
    {
      "cell_type": "markdown",
      "source": [
        "## Data Pre-proccessing"
      ],
      "metadata": {
        "id": "dwY2DOVaaJuv"
      }
    },
    {
      "cell_type": "code",
      "source": [
        "import nltk\n",
        "import re #regular expression to clean data\n",
        "from nltk.corpus import stopwords #stop word\n",
        "nltk.download('stopwords') #corpus for stop words"
      ],
      "metadata": {
        "colab": {
          "base_uri": "https://localhost:8080/"
        },
        "id": "MY_ywFJSaFXh",
        "outputId": "7370783e-4cbe-4820-b4a1-ae28ac9f03f6"
      },
      "execution_count": null,
      "outputs": [
        {
          "output_type": "stream",
          "name": "stderr",
          "text": [
            "[nltk_data] Downloading package stopwords to /root/nltk_data...\n",
            "[nltk_data]   Unzipping corpora/stopwords.zip.\n"
          ]
        },
        {
          "output_type": "execute_result",
          "data": {
            "text/plain": [
              "True"
            ]
          },
          "metadata": {},
          "execution_count": 4
        }
      ]
    },
    {
      "cell_type": "code",
      "source": [
        "import spacy\n",
        "\n",
        "# Load the English model with spaCy's POS tagging from spaCy\n",
        "modelspacy = spacy.load(\"en_core_web_sm\")#load once\n",
        "\n",
        "# Function to lemmatize text with spaCy\n",
        "def lemmatize_text(text):\n",
        "    # Process the text using spaCy, create Doc object\n",
        "    docForLemmatization = modelspacy(text) #it includes tokenization and POS tagging\n",
        "\n",
        "    # Lemmatize tokens, use \"lemma_\" attribute to get the lemma of each token\n",
        "    lemmatized_tokens = [token.lemma_ for token in docForLemmatization]\n",
        "    # and join them back into a single string\n",
        "    return \" \".join(lemmatized_tokens)"
      ],
      "metadata": {
        "id": "u_feYhKNaWuH"
      },
      "execution_count": null,
      "outputs": []
    },
    {
      "cell_type": "code",
      "source": [
        "def text_cleaning(text):\n",
        "\n",
        "    text = text.lower() # Convert to lowercase\n",
        "\n",
        "    text = re.sub(r'@[\\S]+', '', text) # Remove usernames \"sub\" replacing substrings\n",
        "\n",
        "    text = re.sub(r'https?://\\S+|www\\.\\S+', '', text) # Remove hyperlinks\n",
        "\n",
        "    text = re.sub('[^A-Za-z0-9]+', ' ', text) # Remove punctuation\n",
        "\n",
        "\n",
        "    stop_words = set(stopwords.words('english')) # Remove stop words\n",
        "    text = ' '.join([word for word in text.split() if word not in stop_words])\n",
        "\n",
        "    text = lemmatize_text(text)# Lemmatize text\n",
        "\n",
        "    return text"
      ],
      "metadata": {
        "id": "y7DAnNkfaaGX"
      },
      "execution_count": null,
      "outputs": []
    },
    {
      "cell_type": "markdown",
      "source": [
        "## TextCNN"
      ],
      "metadata": {
        "id": "7gBl0PO4aiXv"
      }
    },
    {
      "cell_type": "code",
      "source": [
        "import keras\n",
        "import keras.layers as L\n",
        "from collections import Counter"
      ],
      "metadata": {
        "id": "rDlo_hImalvf"
      },
      "execution_count": null,
      "outputs": []
    },
    {
      "cell_type": "markdown",
      "source": [
        "split the data into two files : neg and pos"
      ],
      "metadata": {
        "id": "wRXOvDthfU8_"
      }
    },
    {
      "cell_type": "code",
      "source": [
        "# Create a list of tuples from the DataFrame\n",
        "dataset = [(row['post_text'], row['label']) for inde, row in df.iterrows()]"
      ],
      "metadata": {
        "id": "pG71KuKEfR_S"
      },
      "execution_count": null,
      "outputs": []
    },
    {
      "cell_type": "code",
      "source": [
        "# Assuming `dataset` is a list of tuples where the first element is the text data and the second element is the label\n",
        "for sample in dataset:\n",
        "    text_data = sample[0] #first element\n",
        "    label = sample[1] #seconn element\n",
        "\n",
        "    # Determine the file name based on the label\n",
        "    file_name = \"positive_data.txt\" if label == 0 else \"negative_data.txt\"\n",
        "\n",
        "    # Append the text data to the appropriate file\n",
        "    with open(file_name, \"a\") as f:\n",
        "        f.write(text_data + \"\\n\")"
      ],
      "metadata": {
        "id": "Y3ZX18GkfZzl"
      },
      "execution_count": null,
      "outputs": []
    },
    {
      "cell_type": "code",
      "source": [
        "def load_data_and_labels(positive_data_file, negative_data_file):\n",
        "    # Load data from files\n",
        "    positive_examples = list(open(positive_data_file, \"r\", encoding='utf-8').readlines())\n",
        "    negative_examples = list(open(negative_data_file, \"r\", encoding='utf-8').readlines())\n",
        "    # Split by words\n",
        "    x_text = positive_examples + negative_examples\n",
        "    x_text = [text_cleaning(sent) for sent in x_text]\n",
        "    # Generate labels\n",
        "    positive_labels = [[0, 1] for _ in positive_examples]\n",
        "    negative_labels = [[1, 0] for _ in negative_examples]\n",
        "    y = np.concatenate([positive_labels, negative_labels])\n",
        "    return [x_text, y]"
      ],
      "metadata": {
        "id": "hbzfsKYAfdCS"
      },
      "execution_count": null,
      "outputs": []
    },
    {
      "cell_type": "code",
      "source": [
        "# Load data and labels from positive and negative data files\n",
        "x_text, y = load_data_and_labels('/content/positive_data.txt', '/content/negative_data.txt')"
      ],
      "metadata": {
        "id": "AaNB3myPffqG"
      },
      "execution_count": null,
      "outputs": []
    },
    {
      "cell_type": "code",
      "source": [
        "# Tokenize each document in the dataset by splitting them into individual words\n",
        "tokens = [t for doc in x_text for t in doc.split(' ')]\n",
        "# Print the total number of tokens in the dataset\n",
        "print(\"Total tokens in the data set: \", len(tokens))\n",
        "\n",
        "# Count the frequency of each token using Counter\n",
        "counter = Counter(tokens)\n",
        "# Create a list of unique tokens (vocabulary)\n",
        "index2word = list(counter.keys())\n",
        "\n",
        "# Insert a special token 'PAD' at the beginning of the vocabulary list for padding\n",
        "index2word.insert(0, 'PAD')\n",
        "# Print the vocabulary size, including the 'PAD' token\n",
        "print(\"Vocabulary size in data set (contains 'PAD' as first): \", len(index2word))"
      ],
      "metadata": {
        "id": "Na38R_ubfh88",
        "colab": {
          "base_uri": "https://localhost:8080/"
        },
        "outputId": "6e296b74-93fb-4dc7-8d00-fc2498134e07"
      },
      "execution_count": null,
      "outputs": [
        {
          "output_type": "stream",
          "name": "stdout",
          "text": [
            "Total tokens in the data set:  135716\n",
            "Vocabulary size in data set (contains 'PAD' as first):  16870\n"
          ]
        }
      ]
    },
    {
      "cell_type": "code",
      "source": [
        "def as_matrix(sequences, max_len, index2word):\n",
        "    # Initialize a matrix with zeros to store the word indices\n",
        "    matrix = np.full((len(sequences), max_len), 0)\n",
        "\n",
        "    # Iterate over each sequence in the input sequences\n",
        "    for i, seq in enumerate(sequences):\n",
        "        # Convert each word in the sequence to its corresponding index in the vocabulary\n",
        "        row_ix = [index2word.index(w) for w in seq.split(' ')]\n",
        "\n",
        "        # Assign the word indices to the matrix row, ensuring it doesn't exceed max_len\n",
        "        matrix[i, :len(row_ix)] = row_ix\n",
        "\n",
        "    return matrix"
      ],
      "metadata": {
        "id": "H9i17HhGflGU"
      },
      "execution_count": null,
      "outputs": []
    },
    {
      "cell_type": "code",
      "source": [
        "max_doc_length = max([len(x.split(' ')) for x in x_text])\n",
        "# Print the maximum document length\n",
        "print(\"Max document length: \", max_doc_length)"
      ],
      "metadata": {
        "colab": {
          "base_uri": "https://localhost:8080/"
        },
        "id": "p4kKaY379p18",
        "outputId": "9a34105e-39cd-437a-c131-036f08ebc756"
      },
      "execution_count": null,
      "outputs": [
        {
          "output_type": "stream",
          "name": "stdout",
          "text": [
            "Max document length:  26\n"
          ]
        }
      ]
    },
    {
      "cell_type": "code",
      "source": [
        "# Convert the text data into matrix format using the provided vocabulary\n",
        "x_matrix = as_matrix(x_text, max_doc_length, index2word)"
      ],
      "metadata": {
        "id": "dBGD7ZZ6L30u"
      },
      "execution_count": null,
      "outputs": []
    },
    {
      "cell_type": "code",
      "source": [
        "from sklearn.model_selection import train_test_split\n",
        "# Split the data into training and testing subsets using train_test_split function\n",
        "x_train, x_test, y_train, y_test = train_test_split(x_matrix, y, test_size= 0.1)"
      ],
      "metadata": {
        "id": "QacG-9NEfoTw"
      },
      "execution_count": null,
      "outputs": []
    },
    {
      "cell_type": "markdown",
      "source": [
        "Define TextCNN model"
      ],
      "metadata": {
        "id": "OJVaVhAof71S"
      }
    },
    {
      "cell_type": "code",
      "source": [
        "# Hyperprameters\n",
        "num_classes = 2\n",
        "embedding_size = 300 #vector of length 300 in the embedding space.\n",
        "filter_sizes = (3, 4, 5)\n",
        "num_filters = 128\n",
        "\n",
        "sequence_length = x_train.shape[1]\n",
        "vocab_size = len(index2word)\n",
        "drop_out=0.5\n",
        "l2_reg_lambda=0.0"
      ],
      "metadata": {
        "id": "b7D2vEwsaoXx"
      },
      "execution_count": null,
      "outputs": []
    },
    {
      "cell_type": "code",
      "source": [
        "x_train.shape"
      ],
      "metadata": {
        "colab": {
          "base_uri": "https://localhost:8080/"
        },
        "id": "32exQ-R7pUrP",
        "outputId": "41278e7b-1bce-4c97-83db-5496139065d2"
      },
      "execution_count": null,
      "outputs": [
        {
          "output_type": "execute_result",
          "data": {
            "text/plain": [
              "(20784, 26)"
            ]
          },
          "metadata": {},
          "execution_count": 22
        }
      ]
    },
    {
      "cell_type": "code",
      "source": [
        "# Define the input layer\n",
        "input_x = L.Input(shape=(sequence_length,), name='input_x')\n",
        "\n",
        "# Embedding layer\n",
        "# Initialize embedding layer with random weights if no pre-trained embeddings are provided\n",
        "embedding = L.Embedding(vocab_size, embedding_size, name='embedding')(input_x)\n",
        "\n",
        "# Reshape the embedding layer to match the expected input shape for convolutional operations\n",
        "expend_shape = [embedding.get_shape().as_list()[1], embedding.get_shape().as_list()[2], 1]\n",
        "embedding_chars = L.Reshape(expend_shape)(embedding)\n",
        "\n",
        "# Convolutional and max pooling layers\n",
        "pooled_outputs = []\n",
        "for i, filter_size in enumerate(filter_sizes):\n",
        "        # Convolutional layer with ReLU activation\n",
        "    conv = L.Conv2D(filters=num_filters,\n",
        "                    kernel_size=[filter_size, embedding_size],\n",
        "                    strides=1,\n",
        "                    padding='valid',\n",
        "                    activation='relu',\n",
        "                    kernel_initializer=keras.initializers.TruncatedNormal(mean=0.0, stddev=0.1),\n",
        "                    bias_initializer=keras.initializers.constant(value=0.1),\n",
        "                    name=('conv_%d' % filter_size))(embedding_chars)\n",
        "# Max pooling layer\n",
        "    max_pool = L.MaxPool2D(pool_size=[sequence_length - filter_size + 1, 1],\n",
        "                            strides=(1, 1),\n",
        "                            padding='valid',\n",
        "                            name=('max_pool_%d' % filter_size))(conv)\n",
        "\n",
        "    pooled_outputs.append(max_pool)\n",
        "\n",
        "# Combine pooled features\n",
        "num_filters_total = num_filters * len(filter_sizes)\n",
        "h_pool = L.Concatenate(axis=3)(pooled_outputs)\n",
        "h_pool_flat = L.Reshape([num_filters_total])(h_pool)\n",
        "\n",
        "# Dropout layer to prevent overfitting\n",
        "dropout = L.Dropout(drop_out)(h_pool_flat)\n",
        "\n",
        "# Output layer for classification\n",
        "output = L.Dense(num_classes,\n",
        "                  kernel_initializer='glorot_normal',\n",
        "                  bias_initializer=keras.initializers.constant(0.1),\n",
        "                  activation='softmax',\n",
        "                  name='output')(dropout)\n",
        "\n",
        "# Define the model with input and output layers\n",
        "model = keras.models.Model(inputs=input_x, outputs=output)"
      ],
      "metadata": {
        "id": "zdriUTzjgAPR"
      },
      "execution_count": null,
      "outputs": []
    },
    {
      "cell_type": "markdown",
      "source": [
        "##TextCNN Result"
      ],
      "metadata": {
        "id": "loRMhcctgGyA"
      }
    },
    {
      "cell_type": "code",
      "source": [
        "cnn_rand = model\n",
        "cnn_rand.compile('adam', 'categorical_crossentropy', metrics=['accuracy'])\n",
        "cnn_rand_history = cnn_rand.fit(x_train, y_train, epochs=10, batch_size=128)"
      ],
      "metadata": {
        "id": "LB1YGunLgJn5",
        "colab": {
          "base_uri": "https://localhost:8080/"
        },
        "outputId": "8b32abec-b9f3-4e77-b157-6989aad87700"
      },
      "execution_count": null,
      "outputs": [
        {
          "output_type": "stream",
          "name": "stdout",
          "text": [
            "Epoch 1/10\n",
            "163/163 [==============================] - 27s 113ms/step - loss: 0.5488 - accuracy: 0.6953\n",
            "Epoch 2/10\n",
            "163/163 [==============================] - 5s 32ms/step - loss: 0.3148 - accuracy: 0.8609\n",
            "Epoch 3/10\n",
            "163/163 [==============================] - 4s 24ms/step - loss: 0.2008 - accuracy: 0.9171\n",
            "Epoch 4/10\n",
            "163/163 [==============================] - 4s 24ms/step - loss: 0.1446 - accuracy: 0.9398\n",
            "Epoch 5/10\n",
            "163/163 [==============================] - 2s 12ms/step - loss: 0.1106 - accuracy: 0.9538\n",
            "Epoch 6/10\n",
            "163/163 [==============================] - 3s 17ms/step - loss: 0.0910 - accuracy: 0.9637\n",
            "Epoch 7/10\n",
            "163/163 [==============================] - 2s 9ms/step - loss: 0.0793 - accuracy: 0.9680\n",
            "Epoch 8/10\n",
            "163/163 [==============================] - 2s 12ms/step - loss: 0.0714 - accuracy: 0.9714\n",
            "Epoch 9/10\n",
            "163/163 [==============================] - 2s 11ms/step - loss: 0.0657 - accuracy: 0.9732\n",
            "Epoch 10/10\n",
            "163/163 [==============================] - 2s 13ms/step - loss: 0.0612 - accuracy: 0.9745\n"
          ]
        }
      ]
    },
    {
      "cell_type": "code",
      "source": [
        "# Plot training loss\n",
        "plt.plot(cnn_rand_history.history['loss'], label='Training Loss')\n",
        "plt.title('Training Loss')\n",
        "plt.xlabel('Epoch')\n",
        "plt.ylabel('Loss')\n",
        "plt.legend()\n",
        "plt.show()\n",
        "\n",
        "# Plot training accuracy\n",
        "plt.plot(cnn_rand_history.history['accuracy'], label='Training Accuracy')\n",
        "plt.title('Training Accuracy')\n",
        "plt.xlabel('Epoch')\n",
        "plt.ylabel('Accuracy')\n",
        "plt.legend()\n",
        "plt.show()"
      ],
      "metadata": {
        "id": "y6h7lAubgOnl",
        "colab": {
          "base_uri": "https://localhost:8080/",
          "height": 927
        },
        "outputId": "2fc43ee9-44f0-49d8-c270-8ee279d7baa8"
      },
      "execution_count": null,
      "outputs": [
        {
          "output_type": "display_data",
          "data": {
            "text/plain": [
              "<Figure size 640x480 with 1 Axes>"
            ],
            "image/png": "[encoded data removed]"
          },
          "metadata": {}
        },
        {
          "output_type": "display_data",
          "data": {
            "text/plain": [
              "<Figure size 640x480 with 1 Axes>"
            ],
            "image/png": "[encoded data removed]"
          },
          "metadata": {}
        }
      ]
    }
  ]
}